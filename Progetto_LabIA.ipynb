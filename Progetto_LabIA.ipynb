{
  "nbformat": 4,
  "nbformat_minor": 0,
  "metadata": {
    "colab": {
      "provenance": [],
      "gpuType": "T4",
      "authorship_tag": "ABX9TyN2MyPjT62OLXBrJqDyXed8",
      "include_colab_link": true
    },
    "kernelspec": {
      "name": "python3",
      "display_name": "Python 3"
    },
    "language_info": {
      "name": "python"
    },
    "accelerator": "GPU"
  },
  "cells": [
    {
      "cell_type": "markdown",
      "metadata": {
        "id": "view-in-github",
        "colab_type": "text"
      },
      "source": [
        "<a href=\"https://colab.research.google.com/github/GiacomoMM/blood-cell-classification-detection/blob/main/Progetto_LabIA.ipynb\" target=\"_parent\"><img src=\"https://colab.research.google.com/assets/colab-badge.svg\" alt=\"Open In Colab\"/></a>"
      ]
    },
    {
      "cell_type": "code",
      "source": [
        "import time\n",
        "import matplotlib.pyplot as plt\n",
        "import seaborn as sns\n",
        "import pandas as pd\n",
        "import numpy as np\n",
        "import sklearn as sk\n",
        "import torch\n",
        "import torchvision"
      ],
      "metadata": {
        "id": "HNIXMLGS7iTP"
      },
      "execution_count": 8,
      "outputs": []
    },
    {
      "cell_type": "markdown",
      "source": [
        "#Data download"
      ],
      "metadata": {
        "id": "QvgGkdEv9vFN"
      }
    },
    {
      "cell_type": "code",
      "source": [
        "import requests\n",
        "import zipfile\n",
        "from pathlib import Path\n",
        "\n",
        "data_path=Path(\"data/\")\n",
        "#se ci sono gia i dati\n",
        "if data_path.is_dir():\n",
        "  print(\"directory esiste già\")\n",
        "else:\n",
        "  data_path.mkdir(parents=True,exist_ok=True)\n",
        "  print(\"directory data creata\")\n",
        "\n",
        "with open(data_path / \"PBC_dataset_normal_DIB_224.zip\",\"wb\") as f:\n",
        "  request=requests.get(\"https://github.com/GiacomoMM/blood-cell-classification-detection/raw/main/PBC_dataset_normal_DIB_224.zip?download=\")\n",
        "  print(\"downloading dataset\")\n",
        "  f.write(request.content)\n",
        "\n",
        "with zipfile.ZipFile(data_path / \"PBC_dataset_normal_DIB_224.zip\",\"r\") as zip_f:\n",
        "  print(\"unzipping dataset\")\n",
        "  zip_f.extractall(data_path)\n"
      ],
      "metadata": {
        "colab": {
          "base_uri": "https://localhost:8080/"
        },
        "id": "iC67mVlF9z0N",
        "outputId": "5cdd4a57-4009-4a23-c65c-5f848ed2c572"
      },
      "execution_count": 12,
      "outputs": [
        {
          "output_type": "stream",
          "name": "stdout",
          "text": [
            "directory esiste già\n",
            "downloading dataset\n",
            "unzipping dataset\n"
          ]
        }
      ]
    },
    {
      "cell_type": "code",
      "source": [
        "def directori(dir_path):\n",
        "  for dirpath,dirname,filename in os.walk(dir_path):\n",
        "    print(f\"Ci sono {len(dirname)} directori e {len(filename)} immagini in {dirpath}\")"
      ],
      "metadata": {
        "id": "z7ZywSMv9FPA"
      },
      "execution_count": 1,
      "outputs": []
    },
    {
      "cell_type": "code",
      "source": [
        "directori()"
      ],
      "metadata": {
        "id": "LIIKXHMc6cPX"
      },
      "execution_count": null,
      "outputs": []
    }
  ]
}